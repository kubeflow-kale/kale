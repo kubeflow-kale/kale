{
 "cells": [
  {
   "cell_type": "code",
   "execution_count": 1,
   "id": "71eeef59-608c-4ab5-8352-226b1f581480",
   "metadata": {
    "editable": true,
    "slideshow": {
     "slide_type": ""
    },
    "tags": [
     "step:evaluation"
    ]
   },
   "outputs": [
    {
     "name": "stdout",
     "output_type": "stream",
     "text": [
      " Creating simple dataset...\n",
      " Dataset created with 100 samples\n",
      " Features: age, income\n",
      " Target: can_buy_house\n",
      "\n",
      "First 5 rows:\n",
      "   age        income  can_buy_house\n",
      "0   56  59181.525542              1\n",
      "1   46  41466.396657              0\n",
      "2   32  34380.212937              0\n",
      "3   60  66518.306342              1\n",
      "4   25  26057.935062              0\n"
     ]
    }
   ],
   "source": [
    "import pandas as pd\n",
    "import numpy as np\n",
    "\n",
    "print(\" Creating simple dataset...\")\n",
    "\n",
    "# Create a simple synthetic dataset\n",
    "np.random.seed(42)\n",
    "n_samples = 100\n",
    "\n",
    "# Features: age, income\n",
    "age = np.random.randint(18, 65, n_samples)\n",
    "income = age * 1000 + np.random.normal(0, 5000, n_samples)\n",
    "\n",
    "# Target: can_buy_house (1 if income > 50000, 0 otherwise)\n",
    "target = (income > 50000).astype(int)\n",
    "\n",
    "# Create DataFrame\n",
    "data = pd.DataFrame({\n",
    "    'age': age,\n",
    "    'income': income,\n",
    "    'can_buy_house': target\n",
    "})\n",
    "\n",
    "print(f\" Dataset created with {len(data)} samples\")\n",
    "print(f\" Features: age, income\")\n",
    "print(f\" Target: can_buy_house\")\n",
    "print(\"\\nFirst 5 rows:\")\n",
    "print(data.head())\n",
    "\n",
    "dataset_size = len(data)\n",
    "feature_count = 2"
   ]
  },
  {
   "cell_type": "code",
   "execution_count": 2,
   "id": "ac97f5e9-b545-4ad0-84dc-60203a2817cc",
   "metadata": {
    "editable": true,
    "slideshow": {
     "slide_type": ""
    },
    "tags": [
     "step:preprocessing"
    ]
   },
   "outputs": [
    {
     "name": "stdout",
     "output_type": "stream",
     "text": [
      " Preparing data for training...\n",
      " Features shape: (100, 2)\n",
      " Target shape: (100,)\n",
      " Training samples: 70\n",
      " Test samples: 30\n",
      "\n",
      " Training data stats:\n",
      "   Average age: 41.2\n",
      "   Average income: $42049\n",
      "   Positive cases: 22/70\n",
      " Data preparation completed!\n"
     ]
    }
   ],
   "source": [
    "# Data preparation\n",
    "from sklearn.model_selection import train_test_split\n",
    "\n",
    "print(\" Preparing data for training...\")\n",
    "\n",
    "# Separate features and target\n",
    "X = data[['age', 'income']]\n",
    "y = data['can_buy_house']\n",
    "\n",
    "print(f\" Features shape: {X.shape}\")\n",
    "print(f\" Target shape: {y.shape}\")\n",
    "\n",
    "# Split data\n",
    "X_train, X_test, y_train, y_test = train_test_split(\n",
    "    X, y, test_size=0.3, random_state=42\n",
    ")\n",
    "\n",
    "print(f\" Training samples: {len(X_train)}\")\n",
    "print(f\" Test samples: {len(X_test)}\")\n",
    "\n",
    "# Basic statistics\n",
    "print(f\"\\n Training data stats:\")\n",
    "print(f\"   Average age: {X_train['age'].mean():.1f}\")\n",
    "print(f\"   Average income: ${X_train['income'].mean():.0f}\")\n",
    "print(f\"   Positive cases: {y_train.sum()}/{len(y_train)}\")\n",
    "\n",
    "train_samples = len(X_train)\n",
    "test_samples = len(X_test)\n",
    "\n",
    "print(\" Data preparation completed!\")"
   ]
  },
  {
   "cell_type": "code",
   "execution_count": 3,
   "id": "06f02b26-b26a-4b41-9359-42c711816b6e",
   "metadata": {
    "editable": true,
    "slideshow": {
     "slide_type": ""
    },
    "tags": [
     "step:training"
    ]
   },
   "outputs": [
    {
     "name": "stdout",
     "output_type": "stream",
     "text": [
      " Training model...\n",
      " Model training completed!\n",
      " Training accuracy: 1.000\n",
      " Model coefficients:\n",
      "   Age coefficient: 0.0009\n",
      "   Income coefficient: 0.035647\n"
     ]
    }
   ],
   "source": [
    "# Model training\n",
    "from sklearn.linear_model import LogisticRegression\n",
    "from sklearn.metrics import accuracy_score\n",
    "\n",
    "print(\" Training model...\")\n",
    "\n",
    "# Create and train model\n",
    "model = LogisticRegression(random_state=42)\n",
    "model.fit(X_train, y_train)\n",
    "\n",
    "print(\" Model training completed!\")\n",
    "\n",
    "# Check training accuracy\n",
    "train_predictions = model.predict(X_train)\n",
    "train_accuracy = accuracy_score(y_train, train_predictions)\n",
    "\n",
    "print(f\" Training accuracy: {train_accuracy:.3f}\")\n",
    "\n",
    "# Model info\n",
    "model_type = \"LogisticRegression\"\n",
    "coefficients = model.coef_[0]\n",
    "\n",
    "print(f\" Model coefficients:\")\n",
    "print(f\"   Age coefficient: {coefficients[0]:.4f}\")\n",
    "print(f\"   Income coefficient: {coefficients[1]:.6f}\")\n",
    "\n",
    "training_accuracy = train_accuracy"
   ]
  },
  {
   "cell_type": "code",
   "execution_count": 4,
   "id": "df87b2f7-71e2-4a46-b2e5-3c831e1166e0",
   "metadata": {
    "editable": true,
    "slideshow": {
     "slide_type": ""
    },
    "tags": [
     "step:evaluation"
    ]
   },
   "outputs": [
    {
     "name": "stdout",
     "output_type": "stream",
     "text": [
      " Evaluating model...\n",
      " Test accuracy: 1.000\n",
      "\n",
      " Classification Report:\n",
      "              precision    recall  f1-score   support\n",
      "\n",
      "           0       1.00      1.00      1.00        23\n",
      "           1       1.00      1.00      1.00         7\n",
      "\n",
      "    accuracy                           1.00        30\n",
      "   macro avg       1.00      1.00      1.00        30\n",
      "weighted avg       1.00      1.00      1.00        30\n",
      "\n",
      "\n",
      " Sample predictions:\n",
      "   Age 25, Income $30,000 → Can buy house: No\n",
      "   Age 45, Income $80,000 → Can buy house: Yes\n",
      "   Age 35, Income $60,000 → Can buy house: Yes\n",
      "\n",
      " Evaluation completed!\n",
      " Final accuracy: 1.000\n",
      " Correct predictions: 30/30\n",
      " Model performance: Good\n"
     ]
    },
    {
     "name": "stderr",
     "output_type": "stream",
     "text": [
      "D:\\Programs\\miniconda\\envs\\kale-ext\\Lib\\site-packages\\sklearn\\utils\\validation.py:2749: UserWarning: X does not have valid feature names, but LogisticRegression was fitted with feature names\n",
      "  warnings.warn(\n"
     ]
    }
   ],
   "source": [
    "# Model evaluation\n",
    "from sklearn.metrics import classification_report\n",
    "\n",
    "print(\" Evaluating model...\")\n",
    "\n",
    "# Make predictions\n",
    "test_predictions = model.predict(X_test)\n",
    "test_accuracy = accuracy_score(y_test, test_predictions)\n",
    "\n",
    "print(f\" Test accuracy: {test_accuracy:.3f}\")\n",
    "\n",
    "# Detailed evaluation\n",
    "print(\"\\n Classification Report:\")\n",
    "print(classification_report(y_test, test_predictions))\n",
    "\n",
    "# Simple predictions on new data\n",
    "print(\"\\n Sample predictions:\")\n",
    "sample_data = [[25, 30000], [45, 80000], [35, 60000]]\n",
    "sample_predictions = model.predict(sample_data)\n",
    "\n",
    "for i, (age, income) in enumerate(sample_data):\n",
    "    prediction = \"Yes\" if sample_predictions[i] == 1 else \"No\"\n",
    "    print(f\"   Age {age}, Income ${income:,} → Can buy house: {prediction}\")\n",
    "\n",
    "# Final metrics\n",
    "final_accuracy = test_accuracy\n",
    "total_correct = int(test_accuracy * len(y_test))\n",
    "model_performance = \"Good\" if test_accuracy > 0.8 else \"Fair\" if test_accuracy > 0.6 else \"Poor\"\n",
    "\n",
    "print(f\"\\n Evaluation completed!\")\n",
    "print(f\" Final accuracy: {final_accuracy:.3f}\")\n",
    "print(f\" Correct predictions: {total_correct}/{len(y_test)}\")\n",
    "print(f\" Model performance: {model_performance}\")"
   ]
  },
  {
   "cell_type": "code",
   "execution_count": null,
   "id": "d763aa43-c050-4032-865d-7625bb8c1f3d",
   "metadata": {},
   "outputs": [],
   "source": []
  }
 ],
 "metadata": {
  "kernelspec": {
   "display_name": "Python 3 (ipykernel)",
   "language": "python",
   "name": "python3"
  },
  "language_info": {
   "codemirror_mode": {
    "name": "ipython",
    "version": 3
   },
   "file_extension": ".py",
   "mimetype": "text/x-python",
   "name": "python",
   "nbconvert_exporter": "python",
   "pygments_lexer": "ipython3",
   "version": "3.13.5"
  }
 },
 "nbformat": 4,
 "nbformat_minor": 5
}
