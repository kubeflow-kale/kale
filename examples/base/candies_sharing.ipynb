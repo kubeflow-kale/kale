{
 "cells": [
  {
   "cell_type": "markdown",
   "metadata": {},
   "source": [
    "## Kale base example\n",
    "\n",
    "This notebook presents a minimal example to show how Kale can convert a Notebook to a pipeline applying Notebook annotations.\n",
    "\n",
    "Variables that are constant throughout the Notebook are transformed into pipeline parameters, so that the pipeline can be re-run with different initializations. Code cells are divided into pipeline steps by mean of notebook tags. You can look at the annotations by inspecting the Notebook source, or by installing the Kale jupyter extension (see [github.com/kubeflow-kale/kale](https://github.com/kubeflow-kale/kale))"
   ]
  },
  {
   "cell_type": "code",
   "execution_count": 26,
   "metadata": {
    "tags": [
     "imports"
    ]
   },
   "outputs": [],
   "source": [
    "import random"
   ]
  },
  {
   "cell_type": "code",
   "execution_count": 34,
   "metadata": {
    "tags": [
     "pipeline-parameters"
    ]
   },
   "outputs": [],
   "source": [
    "CANDIES = 20"
   ]
  },
  {
   "cell_type": "code",
   "execution_count": 35,
   "metadata": {
    "tags": [
     "functions"
    ]
   },
   "outputs": [],
   "source": [
    "def get_handful(left):\n",
    "    if left == 0:\n",
    "        print(\"There are no candies left! I want to cry :(\")\n",
    "        return 0\n",
    "    c = random.randint(1, left)\n",
    "    print(\"I got %s candies!\" % c)\n",
    "    return c"
   ]
  },
  {
   "cell_type": "code",
   "execution_count": 36,
   "metadata": {
    "tags": [
     "block:sack"
    ]
   },
   "outputs": [
    {
     "name": "stdout",
     "output_type": "stream",
     "text": [
      "Let's put in a bag 20 candies and have three kids get a handful of them each\n"
     ]
    }
   ],
   "source": [
    "print(\"Let's put in a bag %s candies and have three kids get a handful of them each\" % CANDIES)"
   ]
  },
  {
   "cell_type": "code",
   "execution_count": 37,
   "metadata": {
    "tags": [
     "block:kid1",
     "prev:sack"
    ]
   },
   "outputs": [
    {
     "name": "stdout",
     "output_type": "stream",
     "text": [
      "I got 13 candies!\n"
     ]
    }
   ],
   "source": [
    "# kid1 gets a handful, without looking in the bad!\n",
    "kid1 = get_handful(CANDIES)"
   ]
  },
  {
   "cell_type": "code",
   "execution_count": 49,
   "metadata": {
    "tags": [
     "block:kid2",
     "prev:kid1"
    ]
   },
   "outputs": [
    {
     "name": "stdout",
     "output_type": "stream",
     "text": [
      "I got 7 candies!\n"
     ]
    }
   ],
   "source": [
    "kid2 = get_handful(CANDIES - kid1)"
   ]
  },
  {
   "cell_type": "code",
   "execution_count": 50,
   "metadata": {
    "tags": [
     "block:kid3",
     "prev:kid2"
    ]
   },
   "outputs": [
    {
     "name": "stdout",
     "output_type": "stream",
     "text": [
      "There are no candies left! I want to cry :(\n"
     ]
    }
   ],
   "source": [
    "kid3 = get_handful(CANDIES - kid1 - kid2)"
   ]
  }
 ],
 "metadata": {
  "kernelspec": {
   "display_name": "Python 3",
   "language": "python",
   "name": "python3"
  },
  "kubeflow_notebook": {
   "docker_image": "",
   "experiment": {
    "id": "",
    "name": ""
   },
   "experiment_name": "",
   "pipeline_description": "Share some candies between three lovely kids",
   "pipeline_name": "candies-sharing",
   "volumes": []
  },
  "language_info": {
   "codemirror_mode": {
    "name": "ipython",
    "version": 3
   },
   "file_extension": ".py",
   "mimetype": "text/x-python",
   "name": "python",
   "nbconvert_exporter": "python",
   "pygments_lexer": "ipython3",
   "version": "3.6.8"
  }
 },
 "nbformat": 4,
 "nbformat_minor": 4
}
