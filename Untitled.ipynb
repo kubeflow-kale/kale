{
 "cells": [
  {
   "cell_type": "code",
   "execution_count": 1,
   "id": "ef873b54-43e4-47b0-93a9-9f51dd6b6e6d",
   "metadata": {
    "scrolled": true
   },
   "outputs": [
    {
     "name": "stdout",
     "output_type": "stream",
     "text": [
      "=== File Check ===\n",
      "✅ Found: src/processors/notebook_to_kfp_converter.py (26861 bytes)\n",
      "  📄 Content length: 26085 characters\n",
      "  📝 First 100 chars: \"\"\"\n",
      "Direct Notebook to KFP v2 DSL Converter\n",
      "Converts annotated Jupyter notebooks directly to Kubeflo...\n",
      "✅ Found: lib/processors/notebook_to_kfp_converter.py (26861 bytes)\n",
      "  📄 Content length: 26085 characters\n",
      "  📝 First 100 chars: \"\"\"\n",
      "Direct Notebook to KFP v2 DSL Converter\n",
      "Converts annotated Jupyter notebooks directly to Kubeflo...\n",
      "\n",
      "📁 Current directory: D:\\Projects\\kale\n"
     ]
    }
   ],
   "source": [
    "import os\n",
    "\n",
    "print(\"=== File Check ===\")\n",
    "paths_to_check = [\n",
    "    'src/processors/notebook_to_kfp_converter.py',\n",
    "    'lib/processors/notebook_to_kfp_converter.py'\n",
    "]\n",
    "\n",
    "for path in paths_to_check:\n",
    "    if os.path.exists(path):\n",
    "        size = os.path.getsize(path)\n",
    "        print(f\"✅ Found: {path} ({size} bytes)\")\n",
    "        \n",
    "        # Try to read the file\n",
    "        try:\n",
    "            with open(path, 'r', encoding='utf-8') as f:\n",
    "                content = f.read()\n",
    "            print(f\"  📄 Content length: {len(content)} characters\")\n",
    "            print(f\"  📝 First 100 chars: {content[:100]}...\")\n",
    "        except Exception as e:\n",
    "            print(f\"  ❌ Error reading: {e}\")\n",
    "    else:\n",
    "        print(f\"❌ Not found: {path}\")\n",
    "\n",
    "print(f\"\\n📁 Current directory: {os.getcwd()}\")"
   ]
  },
  {
   "cell_type": "code",
   "execution_count": 2,
   "id": "6c324159-41c4-4c4b-9af5-db6572472f43",
   "metadata": {},
   "outputs": [
    {
     "name": "stdout",
     "output_type": "stream",
     "text": [
      "📄 Loaded 26085 characters\n",
      "🔄 Converting -f to KFP v2 DSL...\n",
      "❌ Analysis failed: Notebook not found: -f\n"
     ]
    },
    {
     "ename": "SystemExit",
     "evalue": "1",
     "output_type": "error",
     "traceback": [
      "An exception has occurred, use %tb to see the full traceback.\n",
      "\u001b[31mSystemExit\u001b[39m\u001b[31m:\u001b[39m 1\n"
     ]
    }
   ],
   "source": [
    "# Direct test of the converter file\n",
    "import os\n",
    "\n",
    "try:\n",
    "    # Load the converter directly\n",
    "    converter_path = 'src/processors/notebook_to_kfp_converter.py'\n",
    "    \n",
    "    with open(converter_path, 'r', encoding='utf-8') as f:\n",
    "        converter_code = f.read()\n",
    "    \n",
    "    print(f\"📄 Loaded {len(converter_code)} characters\")\n",
    "    \n",
    "    # Execute it\n",
    "    exec(converter_code)\n",
    "    \n",
    "    print(\"✅ Converter loaded successfully!\")\n",
    "    \n",
    "    # Test the functions\n",
    "    print(\"Available functions:\")\n",
    "    print(\"- convert_notebook_to_kfp:\", 'convert_notebook_to_kfp' in globals())\n",
    "    print(\"- analyze_notebook_annotations:\", 'analyze_notebook_annotations' in globals())\n",
    "    print(\"- NotebookToKFPConverter:\", 'NotebookToKFPConverter' in globals())\n",
    "    \n",
    "except Exception as e:\n",
    "    print(f\"❌ Error: {e}\")\n",
    "    import traceback\n",
    "    traceback.print_exc()"
   ]
  },
  {
   "cell_type": "code",
   "execution_count": 1,
   "id": "9e2f3a9a-b492-435a-b2ea-acbf75d132bf",
   "metadata": {
    "tags": [
     "step:data-loading"
    ]
   },
   "outputs": [
    {
     "name": "stdout",
     "output_type": "stream",
     "text": [
      "Hello world!1\n"
     ]
    }
   ],
   "source": [
    "print(\"Hello world!1\")"
   ]
  },
  {
   "cell_type": "code",
   "execution_count": 2,
   "id": "ece072c1-a965-4d4b-9d90-ef228bd55a11",
   "metadata": {
    "tags": [
     "step:preprocessing"
    ]
   },
   "outputs": [
    {
     "name": "stdout",
     "output_type": "stream",
     "text": [
      "Hello world!2\n"
     ]
    }
   ],
   "source": [
    "print(\"Hello world!2\")"
   ]
  },
  {
   "cell_type": "code",
   "execution_count": 3,
   "id": "edda3ea4-1f5d-4743-9963-bce039baef58",
   "metadata": {
    "tags": [
     "pipeline-metrics"
    ]
   },
   "outputs": [
    {
     "name": "stdout",
     "output_type": "stream",
     "text": [
      "Hello world!3\n"
     ]
    }
   ],
   "source": [
    "print(\"Hello world!3\")"
   ]
  },
  {
   "cell_type": "code",
   "execution_count": null,
   "id": "675c1da5-7705-4cdb-ab02-de51c62b68a9",
   "metadata": {},
   "outputs": [],
   "source": [
    "import pandas as pd\n",
    "df = pd.read_csv('data.csv')\n"
   ]
  }
 ],
 "metadata": {
  "kernelspec": {
   "display_name": "Python 3 (ipykernel)",
   "language": "python",
   "name": "python3"
  },
  "language_info": {
   "codemirror_mode": {
    "name": "ipython",
    "version": 3
   },
   "file_extension": ".py",
   "mimetype": "text/x-python",
   "name": "python",
   "nbconvert_exporter": "python",
   "pygments_lexer": "ipython3",
   "version": "3.13.5"
  }
 },
 "nbformat": 4,
 "nbformat_minor": 5
}
